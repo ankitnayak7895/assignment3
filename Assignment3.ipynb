{
 "cells": [
  {
   "cell_type": "markdown",
   "id": "cf7cefee",
   "metadata": {},
   "source": [
    "1. Why are functions advantageous to have in your programs?\n",
    "Ans:-The advantage of funtion in our program is that the code reusability it in any point of time.\n",
    "    \n",
    "Modularity: Functions allow you to break down your code into smaller, manageable chunks. \n",
    "This modularity makes your code easier to understand, debug, and maintain. You can also reuse functions in different parts of your program or even in other programs altogether.\n",
    "\n",
    "Functions makes our code to test it as easier."
   ]
  },
  {
   "cell_type": "code",
   "execution_count": null,
   "id": "14c20c1e",
   "metadata": {},
   "outputs": [],
   "source": []
  },
  {
   "cell_type": "markdown",
   "id": "6c27cca4",
   "metadata": {},
   "source": [
    "2. When does the code in a function run: when it's specified or when it's called?\n",
    "Ans:-The code inside a function runs when the function is called, not when it's specified or defined.\n",
    "\n",
    "When you define a function in your code, you're essentially creating a blueprint or a set of instructions for what should happen when the function is executed. However, those instructions are not executed until you actually call the function in your code.\n",
    "\n",
    "So, to reiterate, the code inside a function runs only when the function is called, not when it's defined or specified in the code."
   ]
  },
  {
   "cell_type": "code",
   "execution_count": 2,
   "id": "cbfdb03f",
   "metadata": {},
   "outputs": [
    {
     "name": "stdout",
     "output_type": "stream",
     "text": [
      "Hello!\n"
     ]
    }
   ],
   "source": [
    "# for example:-\n",
    "def greet():\n",
    "    print(\"Hello!\")\n",
    "\n",
    "# In this code, greet() is a function that, when called, will print \"Hello!\". The code inside the function \n",
    "# (print(\"Hello!\")) will only run when you call the function greet() somewhere else in your code.\n",
    "\n",
    "greet()\n",
    "\n",
    "# This line calls the greet function and executes its code, printing \"Hello!\""
   ]
  },
  {
   "cell_type": "code",
   "execution_count": null,
   "id": "d0639be3",
   "metadata": {},
   "outputs": [],
   "source": []
  },
  {
   "cell_type": "markdown",
   "id": "4fe4c15a",
   "metadata": {},
   "source": [
    "3. What statement creates a function?\n",
    "Ans:-def function is used to create a function in python"
   ]
  },
  {
   "cell_type": "code",
   "execution_count": 3,
   "id": "702d35fc",
   "metadata": {},
   "outputs": [],
   "source": [
    "# for example:-\n",
    "def name():\n",
    "    print(\"hello\")"
   ]
  },
  {
   "cell_type": "markdown",
   "id": "3ae5ba1d",
   "metadata": {},
   "source": [
    "4. What is the difference between a function and a function call?\n",
    "Ans:-\n",
    "Function: A function is a block of code that performs a specific task or a set of tasks. It encapsulates a sequence of instructions that can be executed when the function is called. Functions are defined with a name, parameters (optional), and a body of code that specifies what the function does."
   ]
  },
  {
   "cell_type": "code",
   "execution_count": 4,
   "id": "33c04eb6",
   "metadata": {},
   "outputs": [],
   "source": [
    "# example:-\n",
    "def greet(name):\n",
    "    print(\"Hello, \" + name + \"!\")\n",
    "# Here, greet is a function that takes a name parameter and prints a greeting message using that name."
   ]
  },
  {
   "cell_type": "markdown",
   "id": "e38bd382",
   "metadata": {},
   "source": [
    "Function Call: A function call is the action of invoking or executing a function to perform its defined task. When a function is called, the program flow jumps to the body of the function, executes the code inside it, and then returns to the point where the function was called, unless specified otherwise."
   ]
  },
  {
   "cell_type": "code",
   "execution_count": null,
   "id": "5a35296f",
   "metadata": {},
   "outputs": [],
   "source": [
    "# example:-\n",
    "greet(\"Alice\")\n",
    "# this is the calling of function or function call"
   ]
  },
  {
   "cell_type": "code",
   "execution_count": null,
   "id": "3758be88",
   "metadata": {},
   "outputs": [],
   "source": []
  },
  {
   "cell_type": "markdown",
   "id": "0756427e",
   "metadata": {},
   "source": [
    "5. How many global scopes are there in a Python program? How many local scopes?\n",
    "Ans:-There is typically one global scope and multiple local scopes.\n",
    "\n",
    "Global Scope: The global scope refers to the scope that exists outside of any function definition. Variables defined in the global scope can be accessed from anywhere within the program, including inside functions.\n",
    "\n",
    "Local Scopes: Local scopes are created whenever a function is called. Each function call creates its own local scope, where variables defined within the function are accessible. These variables are not accessible outside of the function unless explicitly returned.\n",
    "\n",
    "\n",
    "\n",
    "There is typically one global scope in a Python program.\n",
    "The number of local scopes can vary depending on how many functions are called and how many times they are called during the execution of the program. Each function call creates its own local scope."
   ]
  },
  {
   "cell_type": "code",
   "execution_count": null,
   "id": "2689a9b2",
   "metadata": {},
   "outputs": [],
   "source": []
  },
  {
   "cell_type": "markdown",
   "id": "14530e19",
   "metadata": {},
   "source": [
    "6. What happens to variables in a local scope when the function call returns?\n",
    "Ans:-When a function call returns, the local variables within that function's scope are destroyed, and the memory allocated to them is reclaimed by the system. This process is known as variable cleanup or garbage collection.\n",
    "\n",
    "Once the function has finished executing and returns control to the calling code, the local variables that were defined within the function are no longer accessible. Any attempt to access those variables outside of the function's scope will result in an error, typically a NameError indicating that the variable is not defined."
   ]
  },
  {
   "cell_type": "code",
   "execution_count": null,
   "id": "0af5dcb2",
   "metadata": {},
   "outputs": [],
   "source": [
    "# Example\"-\n",
    "def my_function():\n",
    "    x = 10\n",
    "    print(\"Inside the function:\", x)\n",
    "\n",
    "my_function()  # Call the function\n",
    "# Attempting to access 'x' outside the function will result in an error\n",
    "print(\"Outside the function:\", x)\n",
    "\n",
    "# In this code, x is defined within the my_function() function's local scope. \n",
    "# After the function call returns, attempting to access x outside of the function will raise a\n",
    "# NameError because x is not defined in the global scope."
   ]
  },
  {
   "cell_type": "code",
   "execution_count": null,
   "id": "ef3b454d",
   "metadata": {},
   "outputs": [],
   "source": []
  },
  {
   "cell_type": "markdown",
   "id": "a47cb8e3",
   "metadata": {},
   "source": [
    "7. What is the concept of a return value? Is it possible to have a return value in an expression?\n",
    "Ans:-The concept of a return value in programming refers to the value that a function sends back to the code that called it after it has finished executing. When a function is called, it may perform some computation and then produce a result, which it can then return to the caller. This return value can be used by the calling code for further computation, assignment to variables, or any other purpose.\n",
    "\n",
    "In many programming languages, including Python, it is possible to have a return value in an expression. This means that the return value of a function call can be directly used within another expression"
   ]
  },
  {
   "cell_type": "code",
   "execution_count": 6,
   "id": "4d2d51c2",
   "metadata": {},
   "outputs": [
    {
     "name": "stdout",
     "output_type": "stream",
     "text": [
      "7\n",
      "26\n"
     ]
    }
   ],
   "source": [
    "# example:-\n",
    "def add(x, y):\n",
    "    return x + y\n",
    "\n",
    "result = add(3, 4)  # The function call returns 7, which is assigned to 'result'\n",
    "print(result)  # Output: 7\n",
    "\n",
    "# Return value used in an expression\n",
    "total = add(5, 6) + add(7, 8)  # 11 + 15 = 26\n",
    "print(total)  # Output: 26\n",
    "\n",
    "\n",
    "# In the second example, the return values of two add() function calls are directly used within the expression\n",
    "# add(5, 6) + add(7, 8). Each function call returns a value (11 and 15, respectively), and these values are\n",
    "# then added together to produce the final result (26).\n",
    "# So yes, it is indeed possible to have a return value in an expression, and it's a common practice in \n",
    "# programming to use return values in various expressions to perform calculations or other operations."
   ]
  },
  {
   "cell_type": "code",
   "execution_count": null,
   "id": "69b59d4d",
   "metadata": {},
   "outputs": [],
   "source": []
  },
  {
   "cell_type": "markdown",
   "id": "bf841b79",
   "metadata": {},
   "source": [
    "8. If a function does not have a return statement, what is the return value of a call to that function?\n",
    "Ans:-If a function does not have a return statement, the return value of a call to that function is None.\n",
    "\n",
    "In Python, if a function reaches the end of its body without encountering a return statement, or if it explicitly ends with a return statement without specifying a value, it implicitly returns None"
   ]
  },
  {
   "cell_type": "code",
   "execution_count": null,
   "id": "092d74cf",
   "metadata": {},
   "outputs": [],
   "source": []
  },
  {
   "cell_type": "markdown",
   "id": "8a49e820",
   "metadata": {},
   "source": [
    "9. How do you make a function variable refer to the global variable?\n",
    "Ans:-In Python, if you want to make a function variable refer to a global variable, you can use the global keyword within the function to declare that the variable is referring to a global variable rather than creating a new local variable with the same name."
   ]
  },
  {
   "cell_type": "code",
   "execution_count": null,
   "id": "7829125c",
   "metadata": {},
   "outputs": [],
   "source": [
    "# example:-\n",
    "global_var = \"I am a global variable\"\n",
    "\n",
    "def my_function():\n",
    "    global global_var  # Declare that 'global_var' inside this function refers to the global variable\n",
    "    print(\"Inside the function:\", global_var)\n",
    "\n",
    "my_function()  # Output: \"I am a global variable\""
   ]
  },
  {
   "cell_type": "markdown",
   "id": "914f9593",
   "metadata": {},
   "source": [
    "In this example, global_var is defined outside of the function my_function(), making it a global variable. Inside my_function(), the global keyword is used to indicate that the variable global_var refers to the global variable with the same name. As a result, when my_function() is called, it prints the value of the global variable global_var."
   ]
  },
  {
   "cell_type": "code",
   "execution_count": null,
   "id": "222578f5",
   "metadata": {},
   "outputs": [],
   "source": []
  },
  {
   "cell_type": "markdown",
   "id": "5dde8cd5",
   "metadata": {},
   "source": [
    "10. What is the data type of None?\n",
    "Ans:-In Python, None is a built-in constant representing the absence of a value or a null value. It serves as a placeholder indicating that a variable or an expression does not have a meaningful value.\n",
    "\n",
    "The data type of None is NoneType. It is the only value of the NoneType data type."
   ]
  },
  {
   "cell_type": "code",
   "execution_count": null,
   "id": "0273b836",
   "metadata": {},
   "outputs": [],
   "source": []
  },
  {
   "cell_type": "markdown",
   "id": "e598e882",
   "metadata": {},
   "source": [
    "11. What does the sentence import areallyourpetsnamederic do?\n",
    "Ans:-The sentence \"import areallyourpetsnamederic\" is syntactically a Python import statement. However, it does not import any module named \"areallyourpetsnamederic\" because it's unlikely that such a module exists in the Python standard library or any commonly used third-party libraries."
   ]
  },
  {
   "cell_type": "code",
   "execution_count": null,
   "id": "18150b1b",
   "metadata": {},
   "outputs": [],
   "source": []
  },
  {
   "cell_type": "markdown",
   "id": "f557f95c",
   "metadata": {},
   "source": [
    "12. If you had a bacon() feature in a spam module, what would you call it after importing spam?\n",
    "Ans:-After importing the spam module, you would call the bacon() function using dot notation, like this:"
   ]
  },
  {
   "cell_type": "code",
   "execution_count": null,
   "id": "09c201eb",
   "metadata": {},
   "outputs": [],
   "source": [
    "# example:-\n",
    "import spam\n",
    "\n",
    "spam.bacon()\n",
    "# Here, spam is the module name, and bacon() is the function defined within the spam module. \n",
    "# By using dot notation (spam.bacon()), you're specifying that the bacon() function belongs to the spam \n",
    "# module, and you're calling it accordingly."
   ]
  },
  {
   "cell_type": "code",
   "execution_count": null,
   "id": "187967e8",
   "metadata": {},
   "outputs": [],
   "source": []
  },
  {
   "cell_type": "markdown",
   "id": "048c3047",
   "metadata": {},
   "source": [
    "13. What can you do to save a programme from crashing if it encounters an error?\n",
    "Ans:-To prevent a program from crashing when encountering an error, you can implement error handling techniques such as exception handling. In Python, this is typically done using try-except blocks."
   ]
  },
  {
   "cell_type": "code",
   "execution_count": null,
   "id": "0d35caa3",
   "metadata": {},
   "outputs": [],
   "source": []
  },
  {
   "cell_type": "markdown",
   "id": "3991b229",
   "metadata": {},
   "source": [
    "14. What is the purpose of the try clause? What is the purpose of the except clause?\n",
    "Ans:-The try and except clauses are used together in Python to implement error handling. Here's the purpose of each:\n",
    "\n",
    ">>Purpose of the try clause:\n",
    "\n",
    "The try clause is used to wrap the code that might raise an exception or an error.\n",
    "Its purpose is to execute the code inside it and monitor for any exceptions that might occur during execution.\n",
    "If an exception occurs within the try block, Python immediately stops executing the code inside the try block and jumps to the appropriate except block (if one exists) to handle the exception.\n",
    "If no exception occurs, the code inside the try block is executed without interruption.\n",
    "\n",
    ">>Purpose of the except clause:\n",
    "\n",
    "The except clause follows the try clause and specifies one or more exception types that it can catch and handle.\n",
    "Its purpose is to define the code that should be executed if a specific type of exception occurs within the associated try block.\n",
    "When an exception occurs in the try block, Python checks whether there's a matching except block for that type of exception.\n",
    "If a matching except block is found, Python executes the code inside that block to handle the exception.\n",
    "If no matching except block is found, the exception propagates up the call stack, potentially causing the program to terminate if it's not caught elsewhere.\n",
    "In summary, the try clause is used to wrap the code that might raise an exception, and the except clause is used to define how to handle specific types of exceptions that might occur within the try block. Together, they allow you to gracefully handle errors and prevent your program from crashing."
   ]
  }
 ],
 "metadata": {
  "kernelspec": {
   "display_name": "Python 3 (ipykernel)",
   "language": "python",
   "name": "python3"
  },
  "language_info": {
   "codemirror_mode": {
    "name": "ipython",
    "version": 3
   },
   "file_extension": ".py",
   "mimetype": "text/x-python",
   "name": "python",
   "nbconvert_exporter": "python",
   "pygments_lexer": "ipython3",
   "version": "3.11.3"
  }
 },
 "nbformat": 4,
 "nbformat_minor": 5
}
